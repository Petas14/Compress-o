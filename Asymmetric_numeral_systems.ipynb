{
  "nbformat": 4,
  "nbformat_minor": 0,
  "metadata": {
    "colab": {
      "provenance": [],
      "authorship_tag": "ABX9TyOXAgWfMStRqXDfFuKVP/Kg",
      "include_colab_link": true
    },
    "kernelspec": {
      "name": "python3",
      "display_name": "Python 3"
    },
    "language_info": {
      "name": "python"
    }
  },
  "cells": [
    {
      "cell_type": "markdown",
      "metadata": {
        "id": "view-in-github",
        "colab_type": "text"
      },
      "source": [
        "<a href=\"https://colab.research.google.com/github/Petas14/Compress-o/blob/main/Asymmetric_numeral_systems.ipynb\" target=\"_parent\"><img src=\"https://colab.research.google.com/assets/colab-badge.svg\" alt=\"Open In Colab\"/></a>"
      ]
    },
    {
      "cell_type": "code",
      "execution_count": null,
      "metadata": {
        "id": "3KBsu9TJnYyU"
      },
      "outputs": [],
      "source": [
        "import numpy as np\n",
        "import math\n",
        "import sys"
      ]
    },
    {
      "cell_type": "code",
      "source": [
        "P = np.array(sorted([0.45,0.35,0.2],reverse = True)).reshape(-1,1)\n",
        "S = ['A','B','C']\n",
        "S = [x for _, x in sorted(zip(P, S),reverse = True)]\n",
        "\n",
        "NPB = math.ceil(np.log2(len(P))) + 3\n",
        "maxval = 2**NPB - 1\n",
        "max_index = [int(x*maxval) for x in P]\n",
        "max_index[0] +=1\n",
        "print(max_index,maxval)"
      ],
      "metadata": {
        "colab": {
          "base_uri": "https://localhost:8080/"
        },
        "id": "pgR_H5uHoXTy",
        "outputId": "a3112699-5682-49f9-891e-862a31a63fa6"
      },
      "execution_count": null,
      "outputs": [
        {
          "output_type": "stream",
          "name": "stdout",
          "text": [
            "[14, 10, 6] 31\n"
          ]
        }
      ]
    },
    {
      "cell_type": "code",
      "source": [
        "def verf(table,x):\n",
        "  for k in table:\n",
        "    if len(k)!=0:\n",
        "      for y in k:\n",
        "        if x == y:\n",
        "          return True\n",
        "  return False"
      ],
      "metadata": {
        "id": "64L7eEJBtP-z"
      },
      "execution_count": null,
      "outputs": []
    },
    {
      "cell_type": "code",
      "source": [
        "def create_table(P,max_index):#melhorar\n",
        "  table = [[] for i in range(len(P))]\n",
        "  for i in range(1,max_index[0]+1):\n",
        "    for k in range(len(P)):\n",
        "      if len(table[k]) < max_index[k]:\n",
        "        if verf(table,int(i/P[k])) == False:\n",
        "          table[k].append(int(i/P[k]))\n",
        "        else:\n",
        "          if verf(table,int(i/P[k])+1) == False:\n",
        "            table[k].append(int(i/P[k])+1)\n",
        "          else:\n",
        "            table[k].append(int(i/P[k])-1)\n",
        "\n",
        "  return table\n",
        "\n",
        "def find_index(table,x):\n",
        "  for i in range(len(table)):\n",
        "    for j in range(len(table[i])):\n",
        "      if table[i][j] == x:\n",
        "        return i,j\n",
        "  sys.exit('erro')\n",
        "\n"
      ],
      "metadata": {
        "id": "LutT_WA4oXWo"
      },
      "execution_count": null,
      "outputs": []
    },
    {
      "cell_type": "code",
      "source": [
        "table = create_table(P,max_index)#concertar tabela indices!!!\n",
        "print(table)"
      ],
      "metadata": {
        "colab": {
          "base_uri": "https://localhost:8080/"
        },
        "id": "CsEGiK12oXZe",
        "outputId": "96f59cf2-e3ef-4a30-b983-6677f0b3d7c1"
      },
      "execution_count": null,
      "outputs": [
        {
          "output_type": "stream",
          "name": "stdout",
          "text": [
            "[[2, 4, 7, 9, 12, 13, 16, 18, 19, 23, 24, 27, 29, 31], [3, 6, 8, 11, 14, 17, 21, 22, 26, 28], [5, 10, 15, 20, 25, 30]]\n"
          ]
        }
      ]
    },
    {
      "cell_type": "code",
      "source": [
        "def encoding(table,text,word,maxval):\n",
        "  result = ''\n",
        "  stop = 0\n",
        "  j = 0\n",
        "  for ind in range(len(text)):\n",
        "    for j in range(len(word)):\n",
        "      if word[j] == text[ind]:\n",
        "        index = j\n",
        "        break\n",
        "\n",
        "    bina = bin(maxval)[2:]\n",
        "    comp = maxval\n",
        "    n = len(table[index])\n",
        "    end = ''\n",
        "    while comp > n:\n",
        "      end =  bina[-1] + end\n",
        "      bina = bina[:-1]\n",
        "      comp = int(bina,2)\n",
        "\n",
        "    maxval = table[index][comp-1]\n",
        "    result += end\n",
        "  bina = bin(maxval)[2:]\n",
        "  result+=bina\n",
        "  return result\n"
      ],
      "metadata": {
        "id": "JF-Tj82Y5A6d"
      },
      "execution_count": null,
      "outputs": []
    },
    {
      "cell_type": "code",
      "source": [
        "def decoding(table,encript,word,maxval):\n",
        "  cond = False\n",
        "  #lembrando que geramos 5 bits de precisão anteriormente, de forma que 2^5 -1 =31, nosso max value\n",
        "  prec_bit = 5\n",
        "  text = ''\n",
        "  numb = int(encript[-prec_bit:],2)\n",
        "  index,j = find_index(table,numb)\n",
        "  j+=1\n",
        "  letter = word[index]\n",
        "  text = letter + text\n",
        "  encript = encript[:-prec_bit]\n",
        "  while cond == False:\n",
        "    bina = bin(j)[2:]\n",
        "    end = ''\n",
        "    while len(bina) + len(end) < prec_bit:\n",
        "      end = encript[-1] + end\n",
        "      encript = encript[:-1]\n",
        "    bina = bina + end\n",
        "    numb = int(bina,2)\n",
        "    index,j = find_index(table,numb)\n",
        "    j +=1\n",
        "    letter = word[index]\n",
        "    text = letter + text\n",
        "    if int(bin(j)[2:] + encript,2) == maxval:\n",
        "      return text\n"
      ],
      "metadata": {
        "id": "1X-FcYo6YUms"
      },
      "execution_count": null,
      "outputs": []
    },
    {
      "cell_type": "code",
      "source": [
        "text = 'AACBAA'\n",
        "encode = encoding(table,text,S,maxval)\n",
        "print(encode)\n",
        "decode = decoding(table,encode,S,maxval)\n",
        "print(decode)"
      ],
      "metadata": {
        "colab": {
          "base_uri": "https://localhost:8080/"
        },
        "id": "16bzyMAS5A9k",
        "outputId": "1e99b9b3-fa77-43b5-ac1c-08e814c9b02c"
      },
      "execution_count": null,
      "outputs": [
        {
          "output_type": "stream",
          "name": "stdout",
          "text": [
            "11010001110000\n",
            "AACBAA\n"
          ]
        }
      ]
    }
  ]
}