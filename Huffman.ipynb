{
  "nbformat": 4,
  "nbformat_minor": 0,
  "metadata": {
    "colab": {
      "provenance": [],
      "authorship_tag": "ABX9TyP5sFhImU/X9LmecJVQ3LQY",
      "include_colab_link": true
    },
    "kernelspec": {
      "name": "python3",
      "display_name": "Python 3"
    },
    "language_info": {
      "name": "python"
    }
  },
  "cells": [
    {
      "cell_type": "markdown",
      "metadata": {
        "id": "view-in-github",
        "colab_type": "text"
      },
      "source": [
        "<a href=\"https://colab.research.google.com/github/Petas14/Compress-o/blob/main/Huffman.ipynb\" target=\"_parent\"><img src=\"https://colab.research.google.com/assets/colab-badge.svg\" alt=\"Open In Colab\"/></a>"
      ]
    },
    {
      "cell_type": "code",
      "execution_count": null,
      "metadata": {
        "id": "JRgd7jay4lBi"
      },
      "outputs": [],
      "source": [
        "from collections import Counter\n",
        "import heapq\n",
        "class Tree:\n",
        "  def __init__(self,ch,freq, left = None,right = None):\n",
        "    self.ch = ch\n",
        "    self.freq = freq\n",
        "    self.left = left\n",
        "    self.right = right\n",
        "\n",
        "  def __lt__(self, other):\n",
        "    return self.freq < other.freq\n",
        "\n",
        "def build_tree(text):\n",
        "  counter = Counter(text)\n",
        "  print(counter)\n",
        "  pq = [Tree(x,counter[x]) for x in counter]\n",
        "  heapq.heapify(pq)\n",
        "  while len(pq) > 1:\n",
        "    left = heapq.heappop(pq)\n",
        "    right = heapq.heappop(pq)\n",
        "    pai = Tree(None,left.freq + right.freq,left,right)\n",
        "    heapq.heappush(pq,pai)\n",
        "  return heapq.heappop(pq)\n",
        "\n",
        "\n",
        "def build_map(root):\n",
        "  def dfs(root,code,encoding_map):\n",
        "    if root.ch:\n",
        "      encoding_map[root.ch] = ''.join(code)\n",
        "    else:\n",
        "      code.append('0')\n",
        "      dfs(root.left,code,encoding_map)\n",
        "      code.pop()\n",
        "      code.append('1')\n",
        "      dfs(root.right,code,encoding_map)\n",
        "      code.pop()\n",
        "  encoding_map = {}\n",
        "  code = []\n",
        "  dfs(root,code,encoding_map)\n",
        "  return encoding_map\n",
        "\n",
        "\n",
        "def encode(text):\n",
        "  root = build_tree(text)\n",
        "  encoding_map = build_map(root)\n",
        "  return ''.join([encoding_map[x] for x in text]),root\n",
        "\n",
        "def decoder(encoded,root):\n",
        "  if root.ch:\n",
        "    return root.ch*len(encoded)\n",
        "  decoded = []\n",
        "  node = root\n",
        "  for bit in encoded:\n",
        "    if bit == '0':\n",
        "      node = node.left\n",
        "    else:\n",
        "      node = node.right\n",
        "    if node.ch:\n",
        "      decoded.append(node.ch)\n",
        "      node = root\n",
        "  return ''.join(decoded)\n"
      ]
    },
    {
      "cell_type": "code",
      "source": [
        "s =  \"in computer science and information theory, a huffman code is a particular type of optimal prefix code that is commonly used for lossless data compression\"\n",
        "encoded,tree = encode(s)\n",
        "decoded = decoder(encoded,tree)\n",
        "print(decoded)\n",
        "print(\"In ASCII o número de bits necessário seria de 1232 bits para codificar este texto, no caso de huffman, foram necessário apenas \", len(encoded), \" bits\")"
      ],
      "metadata": {
        "colab": {
          "base_uri": "https://localhost:8080/"
        },
        "id": "sPLb1kbG5nrU",
        "outputId": "5057c95d-f2d4-463a-a53a-d28c952052a8"
      },
      "execution_count": null,
      "outputs": [
        {
          "output_type": "stream",
          "name": "stdout",
          "text": [
            "Counter({' ': 24, 'o': 14, 'e': 11, 'a': 11, 'i': 10, 's': 10, 't': 9, 'n': 8, 'c': 8, 'r': 8, 'm': 7, 'p': 6, 'f': 6, 'd': 5, 'l': 5, 'u': 4, 'h': 3, 'y': 3, ',': 1, 'x': 1})\n",
            "in computer science and information theory, a huffman code is a particular type of optimal prefix code that is commonly used for lossless data compression\n",
            "In ASCII o número de bits necessário seria de 1232 bits para codificar este texto, no caso de huffman, foram necessário apenas  626  bits\n"
          ]
        }
      ]
    },
    {
      "cell_type": "code",
      "source": [],
      "metadata": {
        "id": "yhUS3sS75nwP"
      },
      "execution_count": null,
      "outputs": []
    },
    {
      "cell_type": "code",
      "source": [],
      "metadata": {
        "id": "v3z9vJbb5nyd"
      },
      "execution_count": null,
      "outputs": []
    },
    {
      "cell_type": "code",
      "source": [],
      "metadata": {
        "id": "3CU5VUAT5n0r"
      },
      "execution_count": null,
      "outputs": []
    }
  ]
}