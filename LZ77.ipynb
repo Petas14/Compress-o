{
  "nbformat": 4,
  "nbformat_minor": 0,
  "metadata": {
    "colab": {
      "provenance": [],
      "authorship_tag": "ABX9TyN3kt+r24+KTR9agbHRnI2A",
      "include_colab_link": true
    },
    "kernelspec": {
      "name": "python3",
      "display_name": "Python 3"
    },
    "language_info": {
      "name": "python"
    }
  },
  "cells": [
    {
      "cell_type": "markdown",
      "metadata": {
        "id": "view-in-github",
        "colab_type": "text"
      },
      "source": [
        "<a href=\"https://colab.research.google.com/github/Petas14/Compress-o/blob/main/LZ77.ipynb\" target=\"_parent\"><img src=\"https://colab.research.google.com/assets/colab-badge.svg\" alt=\"Open In Colab\"/></a>"
      ]
    },
    {
      "cell_type": "code",
      "execution_count": null,
      "metadata": {
        "colab": {
          "base_uri": "https://localhost:8080/"
        },
        "id": "AtA2hmCeeJGL",
        "outputId": "bb762b88-5bfa-4380-bd0f-21314e458c8c"
      },
      "outputs": [
        {
          "output_type": "stream",
          "name": "stdout",
          "text": [
            "19\n"
          ]
        }
      ],
      "source": [
        "import sys\n",
        "import numpy as np\n",
        "ws = 13 #tamanho do quadro de procura, neste caso, se temos 20 caracteres, ele vai realizar a busca em 13 posições, as quais serão repartidas em look ahead e search,\n",
        "la = 6# look ahead é a quanidade de blocos que o algoritmo pode olhar a frente\n",
        "se = ws - la# search é a quantidade de posições que o algorimto pode procurar por padrões\n",
        "text = 'cabracadabrarrarrad'\n",
        "print(len(text))"
      ]
    },
    {
      "cell_type": "code",
      "source": [],
      "metadata": {
        "id": "NoyzP7Osccvi"
      },
      "execution_count": null,
      "outputs": []
    },
    {
      "cell_type": "code",
      "source": [
        "def search(text,x):\n",
        "  k = 0\n",
        "  for i in range(len(text),-1,-1):\n",
        "    if i-len(x) < 0:\n",
        "      return False\n",
        "    if text[i-len(x):i] == x:\n",
        "      return  k\n",
        "    k += 1\n",
        "  return False\n",
        "\n",
        "\n",
        "def encoding(text):\n",
        "  i = 0\n",
        "  mem = []\n",
        "  S = set()\n",
        "  cond = False\n",
        "  while cond == False:\n",
        "    if i >= len(text):\n",
        "      return mem\n",
        "    if text[i] not in S:\n",
        "      S.add(text[i])\n",
        "      mem.append([0,0,text[i]])\n",
        "      i+=1\n",
        "    else:\n",
        "      j = i\n",
        "      while j < i + la:\n",
        "        index = search(text[max(0,i-se):j],text[i:j+1]) #ta procurando além do devido tem que ir até o maximo de search!!!\n",
        "        n = len(text[i:j+1])\n",
        "        if text[i] not in text[max(0,i-se):j]:\n",
        "          mem.append([0,0,text[i]])\n",
        "          i += 1\n",
        "          break\n",
        "        if j == len(text):\n",
        "          mem.append([0,0,text[i:j+1]])\n",
        "          cond = True\n",
        "          break\n",
        "        if index is not False:\n",
        "          indexa = index\n",
        "          na = n\n",
        "          j+=1\n",
        "        else:\n",
        "          mem.append([indexa + 1,na,text[j]])\n",
        "          i += na  + 1\n",
        "          break\n",
        "  return mem\n",
        "\n",
        "\n",
        "def decoder(table):\n",
        "  text = ''\n",
        "  for j in range(len(table)):\n",
        "    x = table[j]\n",
        "    if x[0] == 0:\n",
        "      text += x[2]\n",
        "    else:\n",
        "      N = len(text)\n",
        "      for i in range(x[1]):\n",
        "        text += text[N - x[0] + i]\n",
        "      text += x[2]\n",
        "  return text"
      ],
      "metadata": {
        "id": "ktSSEVvFZBbK"
      },
      "execution_count": null,
      "outputs": []
    },
    {
      "cell_type": "code",
      "source": [
        "text = 'cabracadab rarrarrakadcfhbpvbpvb[onbf]posicrad'\n",
        "a = encoding(text)\n",
        "print(a)\n",
        "print(decoder(a))\n",
        "print(text)"
      ],
      "metadata": {
        "colab": {
          "base_uri": "https://localhost:8080/"
        },
        "id": "U41AeUmGZB4G",
        "outputId": "0fa9a588-0750-4c20-cbb7-e5b406dfcc50"
      },
      "execution_count": null,
      "outputs": [
        {
          "output_type": "stream",
          "name": "stdout",
          "text": [
            "[[0, 0, 'c'], [0, 0, 'a'], [0, 0, 'b'], [0, 0, 'r'], [3, 1, 'c'], [2, 1, 'd'], [7, 2, ' '], [0, 0, 'r'], [4, 1, 'r'], [3, 5, 'k'], [2, 1, 'd'], [0, 0, 'c'], [0, 0, 'f'], [0, 0, 'h'], [0, 0, 'b'], [0, 0, 'p'], [0, 0, 'v'], [3, 4, '['], [0, 0, 'o'], [0, 0, 'n'], [4, 1, 'f'], [0, 0, ']'], [0, 0, 'p'], [6, 1, 's'], [0, 0, 'i'], [0, 0, 'c'], [0, 0, 'r'], [0, 0, 'a'], [0, 0, 'd']]\n",
            "cabracadab rarrarrakadcfhbpvbpvb[onbf]posicrad\n",
            "cabracadab rarrarrakadcfhbpvbpvb[onbf]posicrad\n"
          ]
        }
      ]
    },
    {
      "cell_type": "code",
      "source": [],
      "metadata": {
        "id": "BJ2kPp4-beP7"
      },
      "execution_count": null,
      "outputs": []
    }
  ]
}