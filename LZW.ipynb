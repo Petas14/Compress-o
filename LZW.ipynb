{
  "nbformat": 4,
  "nbformat_minor": 0,
  "metadata": {
    "colab": {
      "provenance": [],
      "authorship_tag": "ABX9TyPkqFYjRiuF10+Vo8hg1O3a",
      "include_colab_link": true
    },
    "kernelspec": {
      "name": "python3",
      "display_name": "Python 3"
    },
    "language_info": {
      "name": "python"
    }
  },
  "cells": [
    {
      "cell_type": "markdown",
      "metadata": {
        "id": "view-in-github",
        "colab_type": "text"
      },
      "source": [
        "<a href=\"https://colab.research.google.com/github/Petas14/Compress-o/blob/main/LZW.ipynb\" target=\"_parent\"><img src=\"https://colab.research.google.com/assets/colab-badge.svg\" alt=\"Open In Colab\"/></a>"
      ]
    },
    {
      "cell_type": "code",
      "source": [
        "def encoding(text):\n",
        "  cond  = False\n",
        "  mapi = {}\n",
        "  mapc = {}\n",
        "  S = set()\n",
        "  textf = []\n",
        "  i = 0\n",
        "  j = 1\n",
        "  n = 0\n",
        "  while cond == False:\n",
        "    if text[i:j] in S:\n",
        "      charac = mapi[text[i:j]]\n",
        "      j += 1\n",
        "      if j >= len(text):\n",
        "        textf.append(charac)\n",
        "    else:\n",
        "      if len(text[i:j]) == 1:\n",
        "        n += 1\n",
        "        mapi[text[i]] = n\n",
        "        mapc[n] = text[i]\n",
        "        S.add(text[i])\n",
        "        textf.append(n)\n",
        "        i+=1\n",
        "        j+=1\n",
        "      else:\n",
        "        n += 1\n",
        "        mapc[n] = text[i:j]\n",
        "        mapi[text[i:j]] = n\n",
        "        S.add(text[i:j])\n",
        "        if j <= len(text):\n",
        "          textf.append(charac)\n",
        "        else:\n",
        "          textf.append(mapi[text[i:j+1]])\n",
        "        i += len(text[i:j])-1\n",
        "    if j == len(text)+1:\n",
        "      return textf,mapc\n",
        "\n",
        "def decoding(encode,map):\n",
        "  text = ''\n",
        "  for x in encode:\n",
        "      text += map[x]\n",
        "  return text\n",
        "\n",
        "\n"
      ],
      "metadata": {
        "id": "7dR7EbQSHPol"
      },
      "execution_count": 211,
      "outputs": []
    },
    {
      "cell_type": "code",
      "source": [
        "text = 'wefnbabbjfgnpowgbjwngb[p9ugbwoifng[oqhernbbotibnwnbbwovakw'\n",
        "a,map = encoding(text)\n",
        "print(decoding(a,map))\n",
        "print(text)"
      ],
      "metadata": {
        "colab": {
          "base_uri": "https://localhost:8080/"
        },
        "id": "IZvvOx6nDwPx",
        "outputId": "8d4401eb-0d2c-49f8-8e29-485d21e95f2e"
      },
      "execution_count": 213,
      "outputs": [
        {
          "output_type": "stream",
          "name": "stdout",
          "text": [
            "wefnbabbjfgnpowgbjwngb[p9ugbwoifng[oqhernbbotibnwnbbwovakw\n",
            "wefnbabbjfgnpowgbjwngb[p9ugbwoifng[oqhernbbotibnwnbbwovakw\n"
          ]
        }
      ]
    },
    {
      "cell_type": "code",
      "source": [
        "S = set(['ab', 'ab '])"
      ],
      "metadata": {
        "id": "nMBhoI7LDwXI"
      },
      "execution_count": null,
      "outputs": []
    },
    {
      "cell_type": "code",
      "source": [],
      "metadata": {
        "id": "InGgXV-uDwZn"
      },
      "execution_count": null,
      "outputs": []
    }
  ]
}