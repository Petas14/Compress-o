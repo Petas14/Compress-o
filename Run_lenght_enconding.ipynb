{
  "nbformat": 4,
  "nbformat_minor": 0,
  "metadata": {
    "colab": {
      "provenance": [],
      "authorship_tag": "ABX9TyMVugwRD6Zex8w88S+bTps8",
      "include_colab_link": true
    },
    "kernelspec": {
      "name": "python3",
      "display_name": "Python 3"
    },
    "language_info": {
      "name": "python"
    }
  },
  "cells": [
    {
      "cell_type": "markdown",
      "metadata": {
        "id": "view-in-github",
        "colab_type": "text"
      },
      "source": [
        "<a href=\"https://colab.research.google.com/github/Petas14/Compress-o/blob/main/Run_lenght_enconding.ipynb\" target=\"_parent\"><img src=\"https://colab.research.google.com/assets/colab-badge.svg\" alt=\"Open In Colab\"/></a>"
      ]
    },
    {
      "cell_type": "code",
      "execution_count": 19,
      "metadata": {
        "id": "V2_ko9vc9kxS"
      },
      "outputs": [],
      "source": [
        "#Run lenght enconding é usado basicamente quando temos uma quantidade grande de repetições contínuas nos dados, por exemplo, 000000001111111144444444444444\n",
        "# a idea então é codificar o na forma (n,value), n a quantidade de ocorrências e value o valor repetido\n",
        "#serve também para letras, porém é menos usado\n",
        "seq = '1111111111111111000000000000000003333333333344444444444444'\n",
        "\n",
        "def encoding(seq):\n",
        "  i = 0\n",
        "  j = 1\n",
        "  n = 1\n",
        "  cond = True\n",
        "  encode = []\n",
        "  while cond == True:\n",
        "    if seq[i] == seq[j]:\n",
        "      j+=1\n",
        "      n+=1\n",
        "      if j == len(seq):\n",
        "        encode.append((n,seq[i]))\n",
        "    else:\n",
        "      encode.append((n,seq[i]))\n",
        "      i = j\n",
        "      j+=1\n",
        "      n = 1\n",
        "\n",
        "    if j == len(seq):\n",
        "      return encode\n",
        "\n",
        "def decoding(encode):\n",
        "  text = ''\n",
        "  for x in encode:\n",
        "    text += x[0]*x[1]\n",
        "  return text"
      ]
    },
    {
      "cell_type": "code",
      "source": [
        "a = encoding(seq)\n",
        "print(seq)\n",
        "print(decoding(a))"
      ],
      "metadata": {
        "colab": {
          "base_uri": "https://localhost:8080/"
        },
        "id": "Cs2SUS50-nIr",
        "outputId": "e3b1acf8-1918-4cef-9ae9-94ddab4b8dd1"
      },
      "execution_count": 20,
      "outputs": [
        {
          "output_type": "stream",
          "name": "stdout",
          "text": [
            "1111111111111111000000000000000003333333333344444444444444\n",
            "1111111111111111000000000000000003333333333344444444444444\n"
          ]
        }
      ]
    },
    {
      "cell_type": "code",
      "source": [],
      "metadata": {
        "id": "hz9SFjhV-nK5"
      },
      "execution_count": null,
      "outputs": []
    },
    {
      "cell_type": "code",
      "source": [],
      "metadata": {
        "id": "I_COgNfT-nNV"
      },
      "execution_count": null,
      "outputs": []
    }
  ]
}