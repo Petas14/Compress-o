{
  "nbformat": 4,
  "nbformat_minor": 0,
  "metadata": {
    "colab": {
      "provenance": [],
      "authorship_tag": "ABX9TyM0h52Yz10p1zL+jxd0hsSP",
      "include_colab_link": true
    },
    "kernelspec": {
      "name": "python3",
      "display_name": "Python 3"
    },
    "language_info": {
      "name": "python"
    }
  },
  "cells": [
    {
      "cell_type": "markdown",
      "metadata": {
        "id": "view-in-github",
        "colab_type": "text"
      },
      "source": [
        "<a href=\"https://colab.research.google.com/github/Petas14/Compress-o/blob/main/delta_enconding.ipynb\" target=\"_parent\"><img src=\"https://colab.research.google.com/assets/colab-badge.svg\" alt=\"Open In Colab\"/></a>"
      ]
    },
    {
      "cell_type": "code",
      "execution_count": 9,
      "metadata": {
        "colab": {
          "base_uri": "https://localhost:8080/"
        },
        "id": "Rccf9nRiAvLN",
        "outputId": "68e94eb7-ab17-4744-a76c-eec62866119b"
      },
      "outputs": [
        {
          "output_type": "stream",
          "name": "stdout",
          "text": [
            "[1, 2, 4, 5, 12, 19, 25, 35]\n",
            "[1, 1, 2, 1, 7, 7, 6, 10]\n",
            "[1, 2, 4, 5, 12, 19, 25, 35]\n"
          ]
        }
      ],
      "source": [
        "# Existe diversas forma de realizar delta enconding, na essencia, sua aplicação é usada para diminuito o range dos dados\n",
        "# Na sua foma mais simples, subtraimos o elemento atual pelo anterior\n",
        "\n",
        "seq = [1,2,4,5,12,19,25,35]\n",
        "\n",
        "def delta_encoding(seq):\n",
        "  ant1 = seq[0]\n",
        "  for i in range(1,len(seq)):\n",
        "    ant2 = seq[i]\n",
        "\n",
        "    seq[i] = seq[i] - ant1\n",
        "    ant1 = ant2\n",
        "\n",
        "\n",
        "def delta_decoding(encode):\n",
        "  for i in range(1,len(encode)):\n",
        "    seq[i] = seq[i] +seq[i-1]\n",
        "\n",
        "\n",
        "print(seq)\n",
        "delta_encoding(seq)\n",
        "print(seq)\n",
        "delta_decoding(seq)\n",
        "print(seq)\n",
        "# É legal, porém se não estiver arranjado irá resultar valor negativos\n",
        "# A primeira solução é ao invés de realizar uma subtração, realizar uma operação XOR\n",
        "# A segunda, é realizar uma subtração do menor valor da lista\n",
        "# Obviamente, tudo dependerá do problema a ser tratado\n",
        "# Há ainda uma outra versão que divide os dados em subsets em quantidade de bits, mas em geral, delta enconding não é muito utilizado pelo fato de"
      ]
    },
    {
      "cell_type": "code",
      "source": [],
      "metadata": {
        "id": "TLAJ9XIMNQ5w"
      },
      "execution_count": null,
      "outputs": []
    },
    {
      "cell_type": "code",
      "source": [],
      "metadata": {
        "id": "F6K_ssTQNRRO"
      },
      "execution_count": null,
      "outputs": []
    },
    {
      "cell_type": "code",
      "source": [],
      "metadata": {
        "id": "m_-4igOMNRTj"
      },
      "execution_count": null,
      "outputs": []
    },
    {
      "cell_type": "code",
      "source": [],
      "metadata": {
        "id": "8B4N4EL5NRVl"
      },
      "execution_count": null,
      "outputs": []
    },
    {
      "cell_type": "code",
      "source": [],
      "metadata": {
        "id": "KPkfDJBzNRYg"
      },
      "execution_count": null,
      "outputs": []
    }
  ]
}