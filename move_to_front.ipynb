{
  "nbformat": 4,
  "nbformat_minor": 0,
  "metadata": {
    "colab": {
      "provenance": [],
      "authorship_tag": "ABX9TyNQXx9c32ubtx5PHX3y1DRt",
      "include_colab_link": true
    },
    "kernelspec": {
      "name": "python3",
      "display_name": "Python 3"
    },
    "language_info": {
      "name": "python"
    }
  },
  "cells": [
    {
      "cell_type": "markdown",
      "metadata": {
        "id": "view-in-github",
        "colab_type": "text"
      },
      "source": [
        "<a href=\"https://colab.research.google.com/github/Petas14/Compress-o/blob/main/move_to_front.ipynb\" target=\"_parent\"><img src=\"https://colab.research.google.com/assets/colab-badge.svg\" alt=\"Open In Colab\"/></a>"
      ]
    },
    {
      "cell_type": "code",
      "execution_count": 60,
      "metadata": {
        "colab": {
          "base_uri": "https://localhost:8080/"
        },
        "id": "ZeLgq13vr3EK",
        "outputId": "9fa41e00-8fd9-46c8-bd17-bedd60178535"
      },
      "outputs": [
        {
          "output_type": "stream",
          "name": "stdout",
          "text": [
            "['s', 'h', 't', 'n', 'g', 'i', 'w', 'b', 'v', 'p', 'k', 'e']\n"
          ]
        }
      ],
      "source": [
        "# neste processo voê precisa ter todos os elementos em uma lista\n",
        "text = 'sshttngiwbgwbvpnvhkiike'\n",
        "index = []\n",
        "S = set()\n",
        "i= 0\n",
        "for x in text:\n",
        "  if x in S:\n",
        "    continue\n",
        "  else:\n",
        "    index.append(x)\n",
        "    S.add(x)\n",
        "    i+=1\n",
        "print(index)"
      ]
    },
    {
      "cell_type": "code",
      "source": [
        "def enconding(text,map):\n",
        "  encode = []\n",
        "  index = map.copy()\n",
        "  for x in text:\n",
        "    for i in range(len(index)):\n",
        "      if index[i] == x:\n",
        "        encode.append(i)\n",
        "        del index[i]\n",
        "        index.insert(0,x)\n",
        "        break\n",
        "  return encode\n",
        "\n",
        "\n",
        "def decoding(encode,map):\n",
        "  index = map.copy()\n",
        "  text = ''\n",
        "  for x in encode:\n",
        "    text += index[x]\n",
        "    del index[x]\n",
        "    index.insert(0,text[-1])\n",
        "  return text\n",
        "\n"
      ],
      "metadata": {
        "id": "HILOgqnYuo2Z"
      },
      "execution_count": 61,
      "outputs": []
    },
    {
      "cell_type": "code",
      "source": [
        "a = enconding(text,index)\n",
        "b = decoding(a,index)\n",
        "print(b)\n",
        "print(text)"
      ],
      "metadata": {
        "colab": {
          "base_uri": "https://localhost:8080/"
        },
        "id": "zGhA79h1xEvk",
        "outputId": "4b85d314-3510-4a64-f3bf-c552d0bcee31"
      },
      "execution_count": 62,
      "outputs": [
        {
          "output_type": "stream",
          "name": "stdout",
          "text": [
            "sshttngiwbgwbvpnvhkiike\n",
            "sshttngiwbgwbvpnvhkiike\n"
          ]
        }
      ]
    },
    {
      "cell_type": "code",
      "source": [],
      "metadata": {
        "id": "JoPaiBTjxJwS"
      },
      "execution_count": null,
      "outputs": []
    }
  ]
}